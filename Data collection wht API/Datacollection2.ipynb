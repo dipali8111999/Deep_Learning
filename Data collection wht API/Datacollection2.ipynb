{
 "cells": [
  {
   "cell_type": "markdown",
   "metadata": {},
   "source": [
    "### Amazon product price data"
   ]
  },
  {
   "cell_type": "code",
   "execution_count": 1,
   "metadata": {},
   "outputs": [
    {
     "name": "stdout",
     "output_type": "stream",
     "text": [
      "[{'asin': 'B0BLW25MB7', 'product_name': 'Lenovo IdeaPad 1 14 Laptop, 14.0\\\\\" HD Display, Intel Celeron N4020, 4GB RAM, 64GB Storage, Intel UHD Graphics 600, Win 11 in S Mode, Cloud Grey', 'current_price': 151.0, 'is_prime': True, 'image_url': 'https://m.media-amazon.com/images/I/41ilN47kiFL.jpg', 'locale': 'US', 'currency_symbol': '$'}, {'asin': 'B0BGMFYWJ9', 'product_name': 'NUU B20 Cell Phone, 5G, Compatible with T-Mobile, AT&T, Cricket Phones, 6.5” FHD + Display, 8GB + 128GB, 48MP Triple Camera, Mint Mobile, Dual SIM, Stardust Blue, US Warranty & Hotline 2022', 'current_price': 149.99, 'is_prime': True, 'image_url': 'https://m.media-amazon.com/images/I/41X5g2bwR9L.jpg', 'locale': 'US', 'currency_symbol': '$'}, {'asin': 'B005YQZ1KE', 'product_name': 'T-fal Initiatives Nonstick Cookware Set 18 Piece Oven Safe 350F Pots and Pans, Dishwasher Safe Black', 'current_price': 107.99, 'is_prime': True, 'image_url': 'https://m.media-amazon.com/images/I/41pLhSHcuAL.jpg', 'locale': 'US', 'currency_symbol': '$'}, {'asin': 'B074R8RQQ2', 'product_name': 'Maxracy 2 Set Peeler Silicone Easy Roll Tube Useful Garlic Odorfree Kitchen Tool (Red,Blue)', 'current_price': 6.59, 'is_prime': True, 'image_url': 'https://m.media-amazon.com/images/I/41EtHJCNHiL.jpg', 'locale': 'US', 'currency_symbol': '$'}, {'asin': 'B0BS1QCFHX', 'product_name': 'Sony WH-CH720N Noise Canceling Wireless Headphones Bluetooth Over The Ear Headset with Microphone and Alexa Built-in, Black New', 'current_price': 0.0, 'is_prime': True, 'image_url': 'https://m.media-amazon.com/images/I/31+CMjgVyHL.jpg', 'locale': 'US', 'currency_symbol': '$'}]\n"
     ]
    }
   ],
   "source": [
    "import requests\n",
    "\n",
    "url = \"https://amazon-product-price-data.p.rapidapi.com/product\"\n",
    "\n",
    "querystring = {\"asins\":\"B005YQZ1KE,B074R8RQQ2,B0BGMFYWJ9,B0BLW25MB7,B0BS1QCFHX\",\"locale\":\"US\"}\n",
    "\n",
    "headers = {\n",
    "\t\"X-RapidAPI-Key\": \"3d4cb6715amsh7480c995d933972p147a57jsn14d6ca483f34\",\n",
    "\t\"X-RapidAPI-Host\": \"amazon-product-price-data.p.rapidapi.com\"\n",
    "}\n",
    "\n",
    "response = requests.get(url, headers=headers, params=querystring)\n",
    "\n",
    "print(response.json())"
   ]
  },
  {
   "cell_type": "code",
   "execution_count": 2,
   "metadata": {},
   "outputs": [
    {
     "data": {
      "text/plain": [
       "[{'asin': 'B0BLW25MB7',\n",
       "  'product_name': 'Lenovo IdeaPad 1 14 Laptop, 14.0\\\\\" HD Display, Intel Celeron N4020, 4GB RAM, 64GB Storage, Intel UHD Graphics 600, Win 11 in S Mode, Cloud Grey',\n",
       "  'current_price': 151.0,\n",
       "  'is_prime': True,\n",
       "  'image_url': 'https://m.media-amazon.com/images/I/41ilN47kiFL.jpg',\n",
       "  'locale': 'US',\n",
       "  'currency_symbol': '$'},\n",
       " {'asin': 'B0BGMFYWJ9',\n",
       "  'product_name': 'NUU B20 Cell Phone, 5G, Compatible with T-Mobile, AT&T, Cricket Phones, 6.5” FHD + Display, 8GB + 128GB, 48MP Triple Camera, Mint Mobile, Dual SIM, Stardust Blue, US Warranty & Hotline 2022',\n",
       "  'current_price': 149.99,\n",
       "  'is_prime': True,\n",
       "  'image_url': 'https://m.media-amazon.com/images/I/41X5g2bwR9L.jpg',\n",
       "  'locale': 'US',\n",
       "  'currency_symbol': '$'},\n",
       " {'asin': 'B005YQZ1KE',\n",
       "  'product_name': 'T-fal Initiatives Nonstick Cookware Set 18 Piece Oven Safe 350F Pots and Pans, Dishwasher Safe Black',\n",
       "  'current_price': 107.99,\n",
       "  'is_prime': True,\n",
       "  'image_url': 'https://m.media-amazon.com/images/I/41pLhSHcuAL.jpg',\n",
       "  'locale': 'US',\n",
       "  'currency_symbol': '$'},\n",
       " {'asin': 'B074R8RQQ2',\n",
       "  'product_name': 'Maxracy 2 Set Peeler Silicone Easy Roll Tube Useful Garlic Odorfree Kitchen Tool (Red,Blue)',\n",
       "  'current_price': 6.59,\n",
       "  'is_prime': True,\n",
       "  'image_url': 'https://m.media-amazon.com/images/I/41EtHJCNHiL.jpg',\n",
       "  'locale': 'US',\n",
       "  'currency_symbol': '$'},\n",
       " {'asin': 'B0BS1QCFHX',\n",
       "  'product_name': 'Sony WH-CH720N Noise Canceling Wireless Headphones Bluetooth Over The Ear Headset with Microphone and Alexa Built-in, Black New',\n",
       "  'current_price': 0.0,\n",
       "  'is_prime': True,\n",
       "  'image_url': 'https://m.media-amazon.com/images/I/31+CMjgVyHL.jpg',\n",
       "  'locale': 'US',\n",
       "  'currency_symbol': '$'}]"
      ]
     },
     "execution_count": 2,
     "metadata": {},
     "output_type": "execute_result"
    }
   ],
   "source": [
    "data = response.json()\n",
    "data"
   ]
  },
  {
   "cell_type": "code",
   "execution_count": 3,
   "metadata": {},
   "outputs": [
    {
     "data": {
      "text/plain": [
       "5"
      ]
     },
     "execution_count": 3,
     "metadata": {},
     "output_type": "execute_result"
    }
   ],
   "source": [
    "len(data)"
   ]
  },
  {
   "cell_type": "code",
   "execution_count": 4,
   "metadata": {},
   "outputs": [
    {
     "name": "stdout",
     "output_type": "stream",
     "text": [
      "{'asin': 'B0BLW25MB7', 'product_name': 'Lenovo IdeaPad 1 14 Laptop, 14.0\\\\\" HD Display, Intel Celeron N4020, 4GB RAM, 64GB Storage, Intel UHD Graphics 600, Win 11 in S Mode, Cloud Grey', 'current_price': 151.0, 'is_prime': True, 'image_url': 'https://m.media-amazon.com/images/I/41ilN47kiFL.jpg', 'locale': 'US', 'currency_symbol': '$'}\n",
      "{'asin': 'B0BGMFYWJ9', 'product_name': 'NUU B20 Cell Phone, 5G, Compatible with T-Mobile, AT&T, Cricket Phones, 6.5” FHD + Display, 8GB + 128GB, 48MP Triple Camera, Mint Mobile, Dual SIM, Stardust Blue, US Warranty & Hotline 2022', 'current_price': 149.99, 'is_prime': True, 'image_url': 'https://m.media-amazon.com/images/I/41X5g2bwR9L.jpg', 'locale': 'US', 'currency_symbol': '$'}\n",
      "{'asin': 'B005YQZ1KE', 'product_name': 'T-fal Initiatives Nonstick Cookware Set 18 Piece Oven Safe 350F Pots and Pans, Dishwasher Safe Black', 'current_price': 107.99, 'is_prime': True, 'image_url': 'https://m.media-amazon.com/images/I/41pLhSHcuAL.jpg', 'locale': 'US', 'currency_symbol': '$'}\n",
      "{'asin': 'B074R8RQQ2', 'product_name': 'Maxracy 2 Set Peeler Silicone Easy Roll Tube Useful Garlic Odorfree Kitchen Tool (Red,Blue)', 'current_price': 6.59, 'is_prime': True, 'image_url': 'https://m.media-amazon.com/images/I/41EtHJCNHiL.jpg', 'locale': 'US', 'currency_symbol': '$'}\n",
      "{'asin': 'B0BS1QCFHX', 'product_name': 'Sony WH-CH720N Noise Canceling Wireless Headphones Bluetooth Over The Ear Headset with Microphone and Alexa Built-in, Black New', 'current_price': 0.0, 'is_prime': True, 'image_url': 'https://m.media-amazon.com/images/I/31+CMjgVyHL.jpg', 'locale': 'US', 'currency_symbol': '$'}\n"
     ]
    }
   ],
   "source": [
    "for i in data:\n",
    "    print(i)"
   ]
  },
  {
   "cell_type": "code",
   "execution_count": 5,
   "metadata": {},
   "outputs": [
    {
     "data": {
      "text/plain": [
       "'B0BLW25MB7'"
      ]
     },
     "execution_count": 5,
     "metadata": {},
     "output_type": "execute_result"
    }
   ],
   "source": [
    "data[0]['asin']"
   ]
  },
  {
   "cell_type": "code",
   "execution_count": 6,
   "metadata": {},
   "outputs": [
    {
     "data": {
      "text/plain": [
       "'Lenovo IdeaPad 1 14 Laptop, 14.0\\\\\" HD Display, Intel Celeron N4020, 4GB RAM, 64GB Storage, Intel UHD Graphics 600, Win 11 in S Mode, Cloud Grey'"
      ]
     },
     "execution_count": 6,
     "metadata": {},
     "output_type": "execute_result"
    }
   ],
   "source": [
    "data[0]['product_name']"
   ]
  },
  {
   "cell_type": "code",
   "execution_count": 7,
   "metadata": {},
   "outputs": [],
   "source": [
    "asin = []\n",
    "product_name = []\n",
    "price = []\n",
    "image_url = []\n",
    "for i in data:\n",
    "    asin.append(i['asin'])\n",
    "    product_name.append(i['product_name'])\n",
    "    price.append(i['current_price'])\n",
    "    image_url.append(i['image_url'])\n"
   ]
  },
  {
   "cell_type": "code",
   "execution_count": 8,
   "metadata": {},
   "outputs": [
    {
     "data": {
      "text/plain": [
       "['B0BLW25MB7', 'B0BGMFYWJ9', 'B005YQZ1KE', 'B074R8RQQ2', 'B0BS1QCFHX']"
      ]
     },
     "execution_count": 8,
     "metadata": {},
     "output_type": "execute_result"
    }
   ],
   "source": [
    "asin"
   ]
  },
  {
   "cell_type": "code",
   "execution_count": 9,
   "metadata": {},
   "outputs": [
    {
     "data": {
      "text/plain": [
       "['Lenovo IdeaPad 1 14 Laptop, 14.0\\\\\" HD Display, Intel Celeron N4020, 4GB RAM, 64GB Storage, Intel UHD Graphics 600, Win 11 in S Mode, Cloud Grey',\n",
       " 'NUU B20 Cell Phone, 5G, Compatible with T-Mobile, AT&T, Cricket Phones, 6.5” FHD + Display, 8GB + 128GB, 48MP Triple Camera, Mint Mobile, Dual SIM, Stardust Blue, US Warranty & Hotline 2022',\n",
       " 'T-fal Initiatives Nonstick Cookware Set 18 Piece Oven Safe 350F Pots and Pans, Dishwasher Safe Black',\n",
       " 'Maxracy 2 Set Peeler Silicone Easy Roll Tube Useful Garlic Odorfree Kitchen Tool (Red,Blue)',\n",
       " 'Sony WH-CH720N Noise Canceling Wireless Headphones Bluetooth Over The Ear Headset with Microphone and Alexa Built-in, Black New']"
      ]
     },
     "execution_count": 9,
     "metadata": {},
     "output_type": "execute_result"
    }
   ],
   "source": [
    "product_name"
   ]
  },
  {
   "cell_type": "code",
   "execution_count": 10,
   "metadata": {},
   "outputs": [
    {
     "data": {
      "text/plain": [
       "[151.0, 149.99, 107.99, 6.59, 0.0]"
      ]
     },
     "execution_count": 10,
     "metadata": {},
     "output_type": "execute_result"
    }
   ],
   "source": [
    "price"
   ]
  },
  {
   "cell_type": "code",
   "execution_count": 11,
   "metadata": {},
   "outputs": [
    {
     "data": {
      "text/plain": [
       "['https://m.media-amazon.com/images/I/41ilN47kiFL.jpg',\n",
       " 'https://m.media-amazon.com/images/I/41X5g2bwR9L.jpg',\n",
       " 'https://m.media-amazon.com/images/I/41pLhSHcuAL.jpg',\n",
       " 'https://m.media-amazon.com/images/I/41EtHJCNHiL.jpg',\n",
       " 'https://m.media-amazon.com/images/I/31+CMjgVyHL.jpg']"
      ]
     },
     "execution_count": 11,
     "metadata": {},
     "output_type": "execute_result"
    }
   ],
   "source": [
    "image_url"
   ]
  },
  {
   "cell_type": "code",
   "execution_count": 12,
   "metadata": {},
   "outputs": [],
   "source": [
    "dct = {'asin':asin,\n",
    "       'product_name':product_name,\n",
    "       'price':price,\n",
    "       'image_url':image_url}"
   ]
  },
  {
   "cell_type": "code",
   "execution_count": 13,
   "metadata": {},
   "outputs": [],
   "source": [
    "import pandas as pd \n",
    "df = pd.DataFrame(dct)"
   ]
  },
  {
   "cell_type": "code",
   "execution_count": 14,
   "metadata": {},
   "outputs": [
    {
     "data": {
      "text/html": [
       "<div>\n",
       "<style scoped>\n",
       "    .dataframe tbody tr th:only-of-type {\n",
       "        vertical-align: middle;\n",
       "    }\n",
       "\n",
       "    .dataframe tbody tr th {\n",
       "        vertical-align: top;\n",
       "    }\n",
       "\n",
       "    .dataframe thead th {\n",
       "        text-align: right;\n",
       "    }\n",
       "</style>\n",
       "<table border=\"1\" class=\"dataframe\">\n",
       "  <thead>\n",
       "    <tr style=\"text-align: right;\">\n",
       "      <th></th>\n",
       "      <th>asin</th>\n",
       "      <th>product_name</th>\n",
       "      <th>price</th>\n",
       "      <th>image_url</th>\n",
       "    </tr>\n",
       "  </thead>\n",
       "  <tbody>\n",
       "    <tr>\n",
       "      <th>0</th>\n",
       "      <td>B0BLW25MB7</td>\n",
       "      <td>Lenovo IdeaPad 1 14 Laptop, 14.0\\\" HD Display,...</td>\n",
       "      <td>151.00</td>\n",
       "      <td>https://m.media-amazon.com/images/I/41ilN47kiF...</td>\n",
       "    </tr>\n",
       "    <tr>\n",
       "      <th>1</th>\n",
       "      <td>B0BGMFYWJ9</td>\n",
       "      <td>NUU B20 Cell Phone, 5G, Compatible with T-Mobi...</td>\n",
       "      <td>149.99</td>\n",
       "      <td>https://m.media-amazon.com/images/I/41X5g2bwR9...</td>\n",
       "    </tr>\n",
       "    <tr>\n",
       "      <th>2</th>\n",
       "      <td>B005YQZ1KE</td>\n",
       "      <td>T-fal Initiatives Nonstick Cookware Set 18 Pie...</td>\n",
       "      <td>107.99</td>\n",
       "      <td>https://m.media-amazon.com/images/I/41pLhSHcuA...</td>\n",
       "    </tr>\n",
       "    <tr>\n",
       "      <th>3</th>\n",
       "      <td>B074R8RQQ2</td>\n",
       "      <td>Maxracy 2 Set Peeler Silicone Easy Roll Tube U...</td>\n",
       "      <td>6.59</td>\n",
       "      <td>https://m.media-amazon.com/images/I/41EtHJCNHi...</td>\n",
       "    </tr>\n",
       "    <tr>\n",
       "      <th>4</th>\n",
       "      <td>B0BS1QCFHX</td>\n",
       "      <td>Sony WH-CH720N Noise Canceling Wireless Headph...</td>\n",
       "      <td>0.00</td>\n",
       "      <td>https://m.media-amazon.com/images/I/31+CMjgVyH...</td>\n",
       "    </tr>\n",
       "  </tbody>\n",
       "</table>\n",
       "</div>"
      ],
      "text/plain": [
       "         asin                                       product_name   price  \\\n",
       "0  B0BLW25MB7  Lenovo IdeaPad 1 14 Laptop, 14.0\\\" HD Display,...  151.00   \n",
       "1  B0BGMFYWJ9  NUU B20 Cell Phone, 5G, Compatible with T-Mobi...  149.99   \n",
       "2  B005YQZ1KE  T-fal Initiatives Nonstick Cookware Set 18 Pie...  107.99   \n",
       "3  B074R8RQQ2  Maxracy 2 Set Peeler Silicone Easy Roll Tube U...    6.59   \n",
       "4  B0BS1QCFHX  Sony WH-CH720N Noise Canceling Wireless Headph...    0.00   \n",
       "\n",
       "                                           image_url  \n",
       "0  https://m.media-amazon.com/images/I/41ilN47kiF...  \n",
       "1  https://m.media-amazon.com/images/I/41X5g2bwR9...  \n",
       "2  https://m.media-amazon.com/images/I/41pLhSHcuA...  \n",
       "3  https://m.media-amazon.com/images/I/41EtHJCNHi...  \n",
       "4  https://m.media-amazon.com/images/I/31+CMjgVyH...  "
      ]
     },
     "execution_count": 14,
     "metadata": {},
     "output_type": "execute_result"
    }
   ],
   "source": [
    "df"
   ]
  },
  {
   "cell_type": "code",
   "execution_count": 15,
   "metadata": {},
   "outputs": [
    {
     "name": "stdout",
     "output_type": "stream",
     "text": [
      "[{'Date': '2023-12-01', 'Open': 190.33, 'High': 191.56, 'Low': 189.23, 'Close': 191.24, 'Volume': 45704800}, {'Date': '2023-11-30', 'Open': 189.84, 'High': 190.32, 'Low': 188.19, 'Close': 189.95, 'Volume': 48794300}, {'Date': '2023-11-29', 'Open': 190.9, 'High': 192.09, 'Low': 188.97, 'Close': 189.37, 'Volume': 43014200}, {'Date': '2023-11-28', 'Open': 189.78, 'High': 191.08, 'Low': 189.4, 'Close': 190.4, 'Volume': 38414700}, {'Date': '2023-11-27', 'Open': 189.92, 'High': 190.67, 'Low': 188.9, 'Close': 189.79, 'Volume': 40552600}, {'Date': '2023-11-24', 'Open': 190.87, 'High': 190.9, 'Low': 189.25, 'Close': 189.97, 'Volume': 24048300}, {'Date': '2023-11-22', 'Open': 191.49, 'High': 192.93, 'Low': 190.83, 'Close': 191.31, 'Volume': 39630000}, {'Date': '2023-11-21', 'Open': 191.41, 'High': 191.52, 'Low': 189.74, 'Close': 190.64, 'Volume': 38134400}, {'Date': '2023-11-20', 'Open': 189.89, 'High': 191.91, 'Low': 189.88, 'Close': 191.45, 'Volume': 46538600}, {'Date': '2023-11-17', 'Open': 190.25, 'High': 190.38, 'Low': 188.57, 'Close': 189.69, 'Volume': 50941400}, {'Date': '2023-11-16', 'Open': 189.57, 'High': 190.96, 'Low': 188.65, 'Close': 189.71, 'Volume': 54412900}, {'Date': '2023-11-15', 'Open': 187.85, 'High': 189.5, 'Low': 187.78, 'Close': 188.01, 'Volume': 53790500}, {'Date': '2023-11-14', 'Open': 187.7, 'High': 188.11, 'Low': 186.3, 'Close': 187.44, 'Volume': 60108300}, {'Date': '2023-11-13', 'Open': 185.82, 'High': 186.03, 'Low': 184.21, 'Close': 184.8, 'Volume': 43627500}, {'Date': '2023-11-10', 'Open': 183.97, 'High': 186.57, 'Low': 183.53, 'Close': 186.4, 'Volume': 66177900}, {'Date': '2023-11-09', 'Open': 182.96, 'High': 184.12, 'Low': 181.81, 'Close': 182.41, 'Volume': 53763500}, {'Date': '2023-11-08', 'Open': 182.35, 'High': 183.45, 'Low': 181.59, 'Close': 182.89, 'Volume': 49340200}, {'Date': '2023-11-07', 'Open': 179.18, 'High': 182.44, 'Low': 178.97, 'Close': 181.82, 'Volume': 70529900}, {'Date': '2023-11-06', 'Open': 176.38, 'High': 179.43, 'Low': 176.21, 'Close': 179.23, 'Volume': 63841300}, {'Date': '2023-11-03', 'Open': 174.24, 'High': 176.82, 'Low': 173.35, 'Close': 176.65, 'Volume': 79829200}, {'Date': '2023-11-02', 'Open': 175.52, 'High': 177.78, 'Low': 175.46, 'Close': 177.57, 'Volume': 77334700}, {'Date': '2023-11-01', 'Open': 171.0, 'High': 174.23, 'Low': 170.12, 'Close': 173.97, 'Volume': 56934900}, {'Date': '2023-10-31', 'Open': 169.35, 'High': 170.9, 'Low': 167.9, 'Close': 170.77, 'Volume': 44846000}, {'Date': '2023-10-30', 'Open': 169.02, 'High': 171.17, 'Low': 168.87, 'Close': 170.29, 'Volume': 51130900}, {'Date': '2023-10-27', 'Open': 166.91, 'High': 168.96, 'Low': 166.83, 'Close': 168.22, 'Volume': 58499100}, {'Date': '2023-10-26', 'Open': 170.37, 'High': 171.38, 'Low': 165.67, 'Close': 166.89, 'Volume': 70625200}, {'Date': '2023-10-25', 'Open': 171.88, 'High': 173.06, 'Low': 170.65, 'Close': 171.1, 'Volume': 57156900}, {'Date': '2023-10-24', 'Open': 173.05, 'High': 173.67, 'Low': 171.45, 'Close': 173.44, 'Volume': 43816600}, {'Date': '2023-10-23', 'Open': 170.91, 'High': 174.01, 'Low': 169.93, 'Close': 173.0, 'Volume': 55980100}, {'Date': '2023-10-20', 'Open': 175.31, 'High': 175.42, 'Low': 172.64, 'Close': 172.88, 'Volume': 64244000}, {'Date': '2023-10-19', 'Open': 176.04, 'High': 177.84, 'Low': 175.19, 'Close': 175.46, 'Volume': 59302800}, {'Date': '2023-10-18', 'Open': 175.58, 'High': 177.58, 'Low': 175.11, 'Close': 175.84, 'Volume': 54764300}, {'Date': '2023-10-17', 'Open': 176.65, 'High': 178.42, 'Low': 174.8, 'Close': 177.15, 'Volume': 57549300}, {'Date': '2023-10-16', 'Open': 176.75, 'High': 179.08, 'Low': 176.51, 'Close': 178.72, 'Volume': 52516900}, {'Date': '2023-10-13', 'Open': 181.42, 'High': 181.93, 'Low': 178.14, 'Close': 178.85, 'Volume': 51456000}, {'Date': '2023-10-12', 'Open': 180.07, 'High': 182.34, 'Low': 179.04, 'Close': 180.71, 'Volume': 56743100}, {'Date': '2023-10-11', 'Open': 178.2, 'High': 179.85, 'Low': 177.6, 'Close': 179.8, 'Volume': 47551100}, {'Date': '2023-10-10', 'Open': 178.1, 'High': 179.72, 'Low': 177.95, 'Close': 178.39, 'Volume': 43698000}, {'Date': '2023-10-09', 'Open': 176.81, 'High': 179.05, 'Low': 175.8, 'Close': 178.99, 'Volume': 42390700}, {'Date': '2023-10-06', 'Open': 173.8, 'High': 177.99, 'Low': 173.18, 'Close': 177.49, 'Volume': 57266600}, {'Date': '2023-10-05', 'Open': 173.79, 'High': 175.45, 'Low': 172.68, 'Close': 174.91, 'Volume': 48527900}, {'Date': '2023-10-04', 'Open': 171.09, 'High': 174.21, 'Low': 170.97, 'Close': 173.66, 'Volume': 53020200}, {'Date': '2023-10-03', 'Open': 172.26, 'High': 173.63, 'Low': 170.82, 'Close': 172.4, 'Volume': 49594600}, {'Date': '2023-10-02', 'Open': 171.22, 'High': 174.3, 'Low': 170.93, 'Close': 173.75, 'Volume': 52164500}, {'Date': '2023-09-29', 'Open': 172.02, 'High': 173.07, 'Low': 170.34, 'Close': 171.21, 'Volume': 51861000}, {'Date': '2023-09-28', 'Open': 169.34, 'High': 172.03, 'Low': 167.62, 'Close': 170.69, 'Volume': 56294400}, {'Date': '2023-09-27', 'Open': 172.62, 'High': 173.04, 'Low': 169.05, 'Close': 170.43, 'Volume': 66921800}, {'Date': '2023-09-26', 'Open': 174.82, 'High': 175.2, 'Low': 171.66, 'Close': 171.96, 'Volume': 64588900}, {'Date': '2023-09-25', 'Open': 174.2, 'High': 176.97, 'Low': 174.15, 'Close': 176.08, 'Volume': 46172700}, {'Date': '2023-09-22', 'Open': 174.67, 'High': 177.08, 'Low': 174.05, 'Close': 174.79, 'Volume': 56725300}, {'message': 'Upgrade your subscription to MEGA plan to get all remaining data and unlimited access.'}]\n"
     ]
    }
   ],
   "source": [
    "import requests\n",
    "\n",
    "url = \"https://quotient.p.rapidapi.com/equity/daily\"\n",
    "\n",
    "querystring = {\"symbol\":\"AAPL\",\"from\":\"2020-01-01\",\"to\":\"2023-12-01\",\"adjust\":\"false\"}\n",
    "\n",
    "headers = {\n",
    "\t\"X-RapidAPI-Key\": \"3d4cb6715amsh7480c995d933972p147a57jsn14d6ca483f34\",\n",
    "\t\"X-RapidAPI-Host\": \"quotient.p.rapidapi.com\"\n",
    "}\n",
    "\n",
    "response = requests.get(url, headers=headers, params=querystring)\n",
    "\n",
    "print(response.json())"
   ]
  },
  {
   "cell_type": "code",
   "execution_count": 16,
   "metadata": {},
   "outputs": [
    {
     "data": {
      "text/plain": [
       "51"
      ]
     },
     "execution_count": 16,
     "metadata": {},
     "output_type": "execute_result"
    }
   ],
   "source": [
    "data2 = response.json()\n",
    "len(data2)"
   ]
  },
  {
   "cell_type": "markdown",
   "metadata": {},
   "source": [
    "### Yfinance API"
   ]
  },
  {
   "cell_type": "code",
   "execution_count": 17,
   "metadata": {},
   "outputs": [
    {
     "name": "stdout",
     "output_type": "stream",
     "text": [
      "Requirement already satisfied: yfinance in e:\\deep_learning_2_4_pm\\repository\\venv\\lib\\site-packages (0.2.33)\n",
      "Requirement already satisfied: pandas>=1.3.0 in e:\\deep_learning_2_4_pm\\repository\\venv\\lib\\site-packages (from yfinance) (2.1.3)\n",
      "Requirement already satisfied: numpy>=1.16.5 in e:\\deep_learning_2_4_pm\\repository\\venv\\lib\\site-packages (from yfinance) (1.26.2)\n",
      "Requirement already satisfied: requests>=2.31 in e:\\deep_learning_2_4_pm\\repository\\venv\\lib\\site-packages (from yfinance) (2.31.0)\n",
      "Requirement already satisfied: multitasking>=0.0.7 in e:\\deep_learning_2_4_pm\\repository\\venv\\lib\\site-packages (from yfinance) (0.0.11)\n",
      "Requirement already satisfied: lxml>=4.9.1 in e:\\deep_learning_2_4_pm\\repository\\venv\\lib\\site-packages (from yfinance) (4.9.3)\n",
      "Requirement already satisfied: appdirs>=1.4.4 in e:\\deep_learning_2_4_pm\\repository\\venv\\lib\\site-packages (from yfinance) (1.4.4)\n",
      "Requirement already satisfied: pytz>=2022.5 in e:\\deep_learning_2_4_pm\\repository\\venv\\lib\\site-packages (from yfinance) (2023.3.post1)\n",
      "Requirement already satisfied: frozendict>=2.3.4 in e:\\deep_learning_2_4_pm\\repository\\venv\\lib\\site-packages (from yfinance) (2.3.10)\n",
      "Requirement already satisfied: peewee>=3.16.2 in e:\\deep_learning_2_4_pm\\repository\\venv\\lib\\site-packages (from yfinance) (3.17.0)\n",
      "Requirement already satisfied: beautifulsoup4>=4.11.1 in e:\\deep_learning_2_4_pm\\repository\\venv\\lib\\site-packages (from yfinance) (4.12.2)\n",
      "Requirement already satisfied: html5lib>=1.1 in e:\\deep_learning_2_4_pm\\repository\\venv\\lib\\site-packages (from yfinance) (1.1)\n",
      "Requirement already satisfied: soupsieve>1.2 in e:\\deep_learning_2_4_pm\\repository\\venv\\lib\\site-packages (from beautifulsoup4>=4.11.1->yfinance) (2.5)\n",
      "Requirement already satisfied: six>=1.9 in e:\\deep_learning_2_4_pm\\repository\\venv\\lib\\site-packages (from html5lib>=1.1->yfinance) (1.16.0)\n",
      "Requirement already satisfied: webencodings in e:\\deep_learning_2_4_pm\\repository\\venv\\lib\\site-packages (from html5lib>=1.1->yfinance) (0.5.1)\n",
      "Requirement already satisfied: python-dateutil>=2.8.2 in e:\\deep_learning_2_4_pm\\repository\\venv\\lib\\site-packages (from pandas>=1.3.0->yfinance) (2.8.2)\n",
      "Requirement already satisfied: tzdata>=2022.1 in e:\\deep_learning_2_4_pm\\repository\\venv\\lib\\site-packages (from pandas>=1.3.0->yfinance) (2023.3)\n",
      "Requirement already satisfied: charset-normalizer<4,>=2 in e:\\deep_learning_2_4_pm\\repository\\venv\\lib\\site-packages (from requests>=2.31->yfinance) (3.3.2)\n",
      "Requirement already satisfied: idna<4,>=2.5 in e:\\deep_learning_2_4_pm\\repository\\venv\\lib\\site-packages (from requests>=2.31->yfinance) (3.6)\n",
      "Requirement already satisfied: urllib3<3,>=1.21.1 in e:\\deep_learning_2_4_pm\\repository\\venv\\lib\\site-packages (from requests>=2.31->yfinance) (2.1.0)\n",
      "Requirement already satisfied: certifi>=2017.4.17 in e:\\deep_learning_2_4_pm\\repository\\venv\\lib\\site-packages (from requests>=2.31->yfinance) (2023.11.17)\n",
      "Note: you may need to restart the kernel to use updated packages.\n"
     ]
    }
   ],
   "source": [
    "%pip install yfinance"
   ]
  },
  {
   "cell_type": "code",
   "execution_count": 18,
   "metadata": {},
   "outputs": [],
   "source": [
    "import yfinance as yf "
   ]
  },
  {
   "cell_type": "code",
   "execution_count": 20,
   "metadata": {},
   "outputs": [
    {
     "name": "stdout",
     "output_type": "stream",
     "text": [
      "[*********************100%%**********************]  1 of 1 completed\n"
     ]
    },
    {
     "data": {
      "text/html": [
       "<div>\n",
       "<style scoped>\n",
       "    .dataframe tbody tr th:only-of-type {\n",
       "        vertical-align: middle;\n",
       "    }\n",
       "\n",
       "    .dataframe tbody tr th {\n",
       "        vertical-align: top;\n",
       "    }\n",
       "\n",
       "    .dataframe thead th {\n",
       "        text-align: right;\n",
       "    }\n",
       "</style>\n",
       "<table border=\"1\" class=\"dataframe\">\n",
       "  <thead>\n",
       "    <tr style=\"text-align: right;\">\n",
       "      <th></th>\n",
       "      <th>Open</th>\n",
       "      <th>High</th>\n",
       "      <th>Low</th>\n",
       "      <th>Close</th>\n",
       "      <th>Adj Close</th>\n",
       "      <th>Volume</th>\n",
       "    </tr>\n",
       "    <tr>\n",
       "      <th>Date</th>\n",
       "      <th></th>\n",
       "      <th></th>\n",
       "      <th></th>\n",
       "      <th></th>\n",
       "      <th></th>\n",
       "      <th></th>\n",
       "    </tr>\n",
       "  </thead>\n",
       "  <tbody>\n",
       "    <tr>\n",
       "      <th>2022-12-16</th>\n",
       "      <td>136.690002</td>\n",
       "      <td>137.649994</td>\n",
       "      <td>133.729996</td>\n",
       "      <td>134.509995</td>\n",
       "      <td>133.762344</td>\n",
       "      <td>160156900</td>\n",
       "    </tr>\n",
       "    <tr>\n",
       "      <th>2022-12-19</th>\n",
       "      <td>135.110001</td>\n",
       "      <td>135.199997</td>\n",
       "      <td>131.320007</td>\n",
       "      <td>132.369995</td>\n",
       "      <td>131.634216</td>\n",
       "      <td>79592600</td>\n",
       "    </tr>\n",
       "    <tr>\n",
       "      <th>2022-12-20</th>\n",
       "      <td>131.389999</td>\n",
       "      <td>133.250000</td>\n",
       "      <td>129.889999</td>\n",
       "      <td>132.300003</td>\n",
       "      <td>131.564621</td>\n",
       "      <td>77432800</td>\n",
       "    </tr>\n",
       "    <tr>\n",
       "      <th>2022-12-21</th>\n",
       "      <td>132.979996</td>\n",
       "      <td>136.809998</td>\n",
       "      <td>132.750000</td>\n",
       "      <td>135.449997</td>\n",
       "      <td>134.697113</td>\n",
       "      <td>85928000</td>\n",
       "    </tr>\n",
       "    <tr>\n",
       "      <th>2022-12-22</th>\n",
       "      <td>134.350006</td>\n",
       "      <td>134.559998</td>\n",
       "      <td>130.300003</td>\n",
       "      <td>132.229996</td>\n",
       "      <td>131.495010</td>\n",
       "      <td>77852100</td>\n",
       "    </tr>\n",
       "    <tr>\n",
       "      <th>...</th>\n",
       "      <td>...</td>\n",
       "      <td>...</td>\n",
       "      <td>...</td>\n",
       "      <td>...</td>\n",
       "      <td>...</td>\n",
       "      <td>...</td>\n",
       "    </tr>\n",
       "    <tr>\n",
       "      <th>2023-12-11</th>\n",
       "      <td>193.110001</td>\n",
       "      <td>193.490005</td>\n",
       "      <td>191.419998</td>\n",
       "      <td>193.179993</td>\n",
       "      <td>193.179993</td>\n",
       "      <td>60943700</td>\n",
       "    </tr>\n",
       "    <tr>\n",
       "      <th>2023-12-12</th>\n",
       "      <td>193.080002</td>\n",
       "      <td>194.720001</td>\n",
       "      <td>191.720001</td>\n",
       "      <td>194.710007</td>\n",
       "      <td>194.710007</td>\n",
       "      <td>52696900</td>\n",
       "    </tr>\n",
       "    <tr>\n",
       "      <th>2023-12-13</th>\n",
       "      <td>195.089996</td>\n",
       "      <td>198.000000</td>\n",
       "      <td>194.850006</td>\n",
       "      <td>197.960007</td>\n",
       "      <td>197.960007</td>\n",
       "      <td>70404200</td>\n",
       "    </tr>\n",
       "    <tr>\n",
       "      <th>2023-12-14</th>\n",
       "      <td>198.020004</td>\n",
       "      <td>199.619995</td>\n",
       "      <td>196.160004</td>\n",
       "      <td>198.110001</td>\n",
       "      <td>198.110001</td>\n",
       "      <td>66831600</td>\n",
       "    </tr>\n",
       "    <tr>\n",
       "      <th>2023-12-15</th>\n",
       "      <td>197.529999</td>\n",
       "      <td>198.399994</td>\n",
       "      <td>197.000000</td>\n",
       "      <td>197.570007</td>\n",
       "      <td>197.570007</td>\n",
       "      <td>128256700</td>\n",
       "    </tr>\n",
       "  </tbody>\n",
       "</table>\n",
       "<p>251 rows × 6 columns</p>\n",
       "</div>"
      ],
      "text/plain": [
       "                  Open        High         Low       Close   Adj Close  \\\n",
       "Date                                                                     \n",
       "2022-12-16  136.690002  137.649994  133.729996  134.509995  133.762344   \n",
       "2022-12-19  135.110001  135.199997  131.320007  132.369995  131.634216   \n",
       "2022-12-20  131.389999  133.250000  129.889999  132.300003  131.564621   \n",
       "2022-12-21  132.979996  136.809998  132.750000  135.449997  134.697113   \n",
       "2022-12-22  134.350006  134.559998  130.300003  132.229996  131.495010   \n",
       "...                ...         ...         ...         ...         ...   \n",
       "2023-12-11  193.110001  193.490005  191.419998  193.179993  193.179993   \n",
       "2023-12-12  193.080002  194.720001  191.720001  194.710007  194.710007   \n",
       "2023-12-13  195.089996  198.000000  194.850006  197.960007  197.960007   \n",
       "2023-12-14  198.020004  199.619995  196.160004  198.110001  198.110001   \n",
       "2023-12-15  197.529999  198.399994  197.000000  197.570007  197.570007   \n",
       "\n",
       "               Volume  \n",
       "Date                   \n",
       "2022-12-16  160156900  \n",
       "2022-12-19   79592600  \n",
       "2022-12-20   77432800  \n",
       "2022-12-21   85928000  \n",
       "2022-12-22   77852100  \n",
       "...               ...  \n",
       "2023-12-11   60943700  \n",
       "2023-12-12   52696900  \n",
       "2023-12-13   70404200  \n",
       "2023-12-14   66831600  \n",
       "2023-12-15  128256700  \n",
       "\n",
       "[251 rows x 6 columns]"
      ]
     },
     "execution_count": 20,
     "metadata": {},
     "output_type": "execute_result"
    }
   ],
   "source": [
    "df2 = yf.download('AAPL',period='1y',interval='1d')\n",
    "df2"
   ]
  },
  {
   "cell_type": "code",
   "execution_count": 21,
   "metadata": {},
   "outputs": [
    {
     "name": "stdout",
     "output_type": "stream",
     "text": [
      "[*********************100%%**********************]  1 of 1 completed\n"
     ]
    },
    {
     "data": {
      "text/html": [
       "<div>\n",
       "<style scoped>\n",
       "    .dataframe tbody tr th:only-of-type {\n",
       "        vertical-align: middle;\n",
       "    }\n",
       "\n",
       "    .dataframe tbody tr th {\n",
       "        vertical-align: top;\n",
       "    }\n",
       "\n",
       "    .dataframe thead th {\n",
       "        text-align: right;\n",
       "    }\n",
       "</style>\n",
       "<table border=\"1\" class=\"dataframe\">\n",
       "  <thead>\n",
       "    <tr style=\"text-align: right;\">\n",
       "      <th></th>\n",
       "      <th>Open</th>\n",
       "      <th>High</th>\n",
       "      <th>Low</th>\n",
       "      <th>Close</th>\n",
       "      <th>Adj Close</th>\n",
       "      <th>Volume</th>\n",
       "    </tr>\n",
       "    <tr>\n",
       "      <th>Date</th>\n",
       "      <th></th>\n",
       "      <th></th>\n",
       "      <th></th>\n",
       "      <th></th>\n",
       "      <th></th>\n",
       "      <th></th>\n",
       "    </tr>\n",
       "  </thead>\n",
       "  <tbody>\n",
       "    <tr>\n",
       "      <th>2018-12-17</th>\n",
       "      <td>41.362499</td>\n",
       "      <td>42.087502</td>\n",
       "      <td>37.407501</td>\n",
       "      <td>37.682499</td>\n",
       "      <td>36.168072</td>\n",
       "      <td>1150777200</td>\n",
       "    </tr>\n",
       "    <tr>\n",
       "      <th>2018-12-24</th>\n",
       "      <td>37.037498</td>\n",
       "      <td>39.630001</td>\n",
       "      <td>36.647499</td>\n",
       "      <td>39.057499</td>\n",
       "      <td>37.487816</td>\n",
       "      <td>764640800</td>\n",
       "    </tr>\n",
       "    <tr>\n",
       "      <th>2018-12-31</th>\n",
       "      <td>39.632500</td>\n",
       "      <td>39.840000</td>\n",
       "      <td>35.500000</td>\n",
       "      <td>37.064999</td>\n",
       "      <td>35.575386</td>\n",
       "      <td>887850000</td>\n",
       "    </tr>\n",
       "    <tr>\n",
       "      <th>2019-01-07</th>\n",
       "      <td>37.174999</td>\n",
       "      <td>38.632500</td>\n",
       "      <td>36.474998</td>\n",
       "      <td>38.072498</td>\n",
       "      <td>36.542393</td>\n",
       "      <td>814824400</td>\n",
       "    </tr>\n",
       "    <tr>\n",
       "      <th>2019-01-14</th>\n",
       "      <td>37.712502</td>\n",
       "      <td>39.470001</td>\n",
       "      <td>37.305000</td>\n",
       "      <td>39.205002</td>\n",
       "      <td>37.629383</td>\n",
       "      <td>621168000</td>\n",
       "    </tr>\n",
       "    <tr>\n",
       "      <th>...</th>\n",
       "      <td>...</td>\n",
       "      <td>...</td>\n",
       "      <td>...</td>\n",
       "      <td>...</td>\n",
       "      <td>...</td>\n",
       "      <td>...</td>\n",
       "    </tr>\n",
       "    <tr>\n",
       "      <th>2023-11-13</th>\n",
       "      <td>185.820007</td>\n",
       "      <td>190.960007</td>\n",
       "      <td>184.210007</td>\n",
       "      <td>189.690002</td>\n",
       "      <td>189.690002</td>\n",
       "      <td>262862000</td>\n",
       "    </tr>\n",
       "    <tr>\n",
       "      <th>2023-11-20</th>\n",
       "      <td>189.889999</td>\n",
       "      <td>192.929993</td>\n",
       "      <td>189.250000</td>\n",
       "      <td>189.970001</td>\n",
       "      <td>189.970001</td>\n",
       "      <td>148305600</td>\n",
       "    </tr>\n",
       "    <tr>\n",
       "      <th>2023-11-27</th>\n",
       "      <td>189.919998</td>\n",
       "      <td>192.089996</td>\n",
       "      <td>188.190002</td>\n",
       "      <td>191.240005</td>\n",
       "      <td>191.240005</td>\n",
       "      <td>216455900</td>\n",
       "    </tr>\n",
       "    <tr>\n",
       "      <th>2023-12-04</th>\n",
       "      <td>189.979996</td>\n",
       "      <td>195.990005</td>\n",
       "      <td>187.449997</td>\n",
       "      <td>195.710007</td>\n",
       "      <td>195.710007</td>\n",
       "      <td>251962600</td>\n",
       "    </tr>\n",
       "    <tr>\n",
       "      <th>2023-12-11</th>\n",
       "      <td>193.110001</td>\n",
       "      <td>199.619995</td>\n",
       "      <td>191.419998</td>\n",
       "      <td>197.570007</td>\n",
       "      <td>197.570007</td>\n",
       "      <td>493948414</td>\n",
       "    </tr>\n",
       "  </tbody>\n",
       "</table>\n",
       "<p>261 rows × 6 columns</p>\n",
       "</div>"
      ],
      "text/plain": [
       "                  Open        High         Low       Close   Adj Close  \\\n",
       "Date                                                                     \n",
       "2018-12-17   41.362499   42.087502   37.407501   37.682499   36.168072   \n",
       "2018-12-24   37.037498   39.630001   36.647499   39.057499   37.487816   \n",
       "2018-12-31   39.632500   39.840000   35.500000   37.064999   35.575386   \n",
       "2019-01-07   37.174999   38.632500   36.474998   38.072498   36.542393   \n",
       "2019-01-14   37.712502   39.470001   37.305000   39.205002   37.629383   \n",
       "...                ...         ...         ...         ...         ...   \n",
       "2023-11-13  185.820007  190.960007  184.210007  189.690002  189.690002   \n",
       "2023-11-20  189.889999  192.929993  189.250000  189.970001  189.970001   \n",
       "2023-11-27  189.919998  192.089996  188.190002  191.240005  191.240005   \n",
       "2023-12-04  189.979996  195.990005  187.449997  195.710007  195.710007   \n",
       "2023-12-11  193.110001  199.619995  191.419998  197.570007  197.570007   \n",
       "\n",
       "                Volume  \n",
       "Date                    \n",
       "2018-12-17  1150777200  \n",
       "2018-12-24   764640800  \n",
       "2018-12-31   887850000  \n",
       "2019-01-07   814824400  \n",
       "2019-01-14   621168000  \n",
       "...                ...  \n",
       "2023-11-13   262862000  \n",
       "2023-11-20   148305600  \n",
       "2023-11-27   216455900  \n",
       "2023-12-04   251962600  \n",
       "2023-12-11   493948414  \n",
       "\n",
       "[261 rows x 6 columns]"
      ]
     },
     "execution_count": 21,
     "metadata": {},
     "output_type": "execute_result"
    }
   ],
   "source": [
    "df3 = yf.download('AAPL', period = '5y', interval = '1wk')\n",
    "df3"
   ]
  },
  {
   "cell_type": "code",
   "execution_count": null,
   "metadata": {},
   "outputs": [],
   "source": []
  }
 ],
 "metadata": {
  "kernelspec": {
   "display_name": "venv",
   "language": "python",
   "name": "python3"
  },
  "language_info": {
   "codemirror_mode": {
    "name": "ipython",
    "version": 3
   },
   "file_extension": ".py",
   "mimetype": "text/x-python",
   "name": "python",
   "nbconvert_exporter": "python",
   "pygments_lexer": "ipython3",
   "version": "3.11.1"
  }
 },
 "nbformat": 4,
 "nbformat_minor": 2
}
